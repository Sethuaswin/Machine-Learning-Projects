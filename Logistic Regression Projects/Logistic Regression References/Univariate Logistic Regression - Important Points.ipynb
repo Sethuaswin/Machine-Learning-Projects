{
 "cells": [
  {
   "cell_type": "markdown",
   "metadata": {},
   "source": [
    "# <Font color = 'brown'><center>Univariate Logistic Regression"
   ]
  },
  {
   "cell_type": "markdown",
   "metadata": {},
   "source": [
    "## <font color='blue'>Important things to remember"
   ]
  },
  {
   "cell_type": "markdown",
   "metadata": {},
   "source": [
    "#### <font color='blue'>Logistic Regression Definition:\n",
    "\n",
    "Logistic Regression is based on the **Supervised Learning Machine Learning Classification algorithm** that is used to **predict the probability of a categorical dependent variable**. In logistic regression, the **dependent variable** is a **binary variable** that contains data coded as 1 (yes, success, etc.) or 0 (no, failure, etc.).\n",
    "\n",
    "In other words, the Logistic Regression model predicts P(Y=1) as found X."
   ]
  },
  {
   "cell_type": "markdown",
   "metadata": {},
   "source": [
    "Broadly there are two types of Logistic Regression\n",
    "- **Binary Classification:** The Output variable is in two category (yes/no, spam/ham, default/not-default)\n",
    "- **Multiclass Classfication:** The Output variable is more than two categories (Grades, salary - High/Medium/Low)"
   ]
  },
  {
   "cell_type": "markdown",
   "metadata": {},
   "source": [
    "#### <font color = 'blue'>Sigmoid Function:\n",
    "**The Predicted Probability of catagorical dependent variable** is caluculated by **Sigmoid Function**, Which is given by,\n",
    "\n",
    "$$P(Y=1) = \\frac{1}{1+e^{-(\\beta_{0}+\\beta_{1}x)}}$$\n"
   ]
  },
  {
   "cell_type": "markdown",
   "metadata": {},
   "source": [
    "#### <font color='blue'> Cost Function: \n",
    "\n",
    "In Logistic Regression the cost function is called **likelihood function** which is the product of all the poabailities of the data points, In such way that the probality of P(Y=0) is to minimisie and P(Y=1) to maximise or both **P(Y=1) and 1-P(Y=0) to be maximised**.\n",
    "    \n",
    "    \n",
    "Let See the below example of 10 datapoints to understand:\n",
    "\n",
    "\n",
    "|         | | | | | | | | | |  |\n",
    "|---------|-|-|-|-|-|-|-|-|-|--|\n",
    "|Point no.|1|2|3|4|5|6|7|8|9|10|\n",
    "|Dependent Variable Outcome|no|no|no|yes|no|yes|no|yes|yes|yes|\n",
    "\n",
    "In this case, the likelihood would be equal to\n",
    "\n",
    "$$(1-P_1)(1-P_2)(1-P_3)(1-P_5)(1-P_7)(P_4)(P_6)(P_8)(P_9)(P_{10})$$"
   ]
  },
  {
   "cell_type": "markdown",
   "metadata": {},
   "source": [
    "**In sum**: The **Likelihood function** to be maximised to finding the best **Sigmoid Curve**"
   ]
  },
  {
   "cell_type": "markdown",
   "metadata": {},
   "source": [
    "#### <font color='blue'>Linearising the Sigmoid function:"
   ]
  },
  {
   "cell_type": "markdown",
   "metadata": {},
   "source": [
    "$$P=\\frac{1}{1+e^{-(\\beta_{0}+\\beta_{1}x)}}$$\n",
    "\n",
    "\n",
    "\n",
    "$$1-P=\\frac{e^{-(\\beta_{0}+\\beta_{1}x)}}{1+e^{-(\\beta_{0}+\\beta_{1}x)}}$$\n",
    "\n",
    "\n",
    "If we devide the both equation we will get\n",
    "\n",
    "$$\\frac{P}{1-P} = e^{(\\beta_{0}+\\beta_{1}x)}$$\n",
    "\n",
    "Lets take log on both sides,\n",
    "\n",
    "$$ln\\big(\\frac{P}{1-P}\\big)=\\beta_{0}+\\beta_{1}x$$\n",
    "\n",
    "\n",
    "<br><br>\n",
    "\n",
    "**Interpreting $\\frac{p}{1-P}$:**\n",
    "\n",
    "now we having the equation of,$$ln\\big(\\frac{P}{1-P}\\big)=\\beta_{0}+\\beta_{1}x$$\n",
    "\n",
    "here $$\\frac{P}{1-P} = Odds$$ \n",
    "\n",
    "\n",
    "$$ln\\big(\\frac{P}{1-P}\\big) = Log \\  Odds$$\n",
    "\n",
    "Let's try to interpret the $\\frac{p}{1-P}$\n",
    "\n",
    "Lets say $$\\frac{p}{1-P}=4$$\n",
    "\n",
    "which means\n",
    "\n",
    "$$P(Y=1) = 4 \\times{P(Y=0)}$$\n",
    "\n",
    "<br><br>\n",
    "\n",
    "---"
   ]
  }
 ],
 "metadata": {
  "kernelspec": {
   "display_name": "Python 3",
   "language": "python",
   "name": "python3"
  },
  "language_info": {
   "codemirror_mode": {
    "name": "ipython",
    "version": 3
   },
   "file_extension": ".py",
   "mimetype": "text/x-python",
   "name": "python",
   "nbconvert_exporter": "python",
   "pygments_lexer": "ipython3",
   "version": "3.8.5"
  }
 },
 "nbformat": 4,
 "nbformat_minor": 2
}
