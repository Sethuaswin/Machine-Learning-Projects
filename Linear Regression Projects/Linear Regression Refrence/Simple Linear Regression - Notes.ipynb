{
 "cells": [
  {
   "cell_type": "markdown",
   "metadata": {},
   "source": [
    "# <font color='brown'><center> Simple Linear Regression"
   ]
  },
  {
   "cell_type": "markdown",
   "metadata": {},
   "source": [
    "## <font color='blue'> Introduction to Machine Learning"
   ]
  },
  {
   "cell_type": "markdown",
   "metadata": {},
   "source": [
    "### <font color = 'blue'>What is Machine Learnig\n",
    "Machine learning (ML) is subset of artificial intelligence (AI) that allows software applications to become more accurate at predicting outcomes without being explicitly programmed to do so. Machine learning algorithms use historical data as input to predict new output values as method called as Machine Learning Models"
   ]
  },
  {
   "cell_type": "markdown",
   "metadata": {},
   "source": [
    "Modeling uses machine learning algorithms, in which the machine learns from the data just like humans learn from their experiences."
   ]
  },
  {
   "cell_type": "markdown",
   "metadata": {},
   "source": [
    "### <font color='blue'>Type Of Machine Learning Algorithms:\n",
    "- __Reggression:__ The output variable to be predicted is a **continuous variable**\n",
    "    - The score of a student on a subject.\n",
    "- **Classification:** The output variable to be predicted is a **catagorical variable**\n",
    "    - Predicting if a particular email is spam or ham\n",
    "- **Clustering:** No predefined notion of a label is allocated to the groups/clusters formed,This is also a **catagorical variable**\n",
    "    - customer segmentation of a Telecom company "
   ]
  },
  {
   "cell_type": "markdown",
   "metadata": {},
   "source": [
    "Refer the [link](https://www.youtube.com/watch?v=IpGxLWOIZy4) for better understanding of the types Machine Learning Algorithm"
   ]
  },
  {
   "cell_type": "markdown",
   "metadata": {},
   "source": [
    "### <font color='blue'>Supervised and insupervised learning method"
   ]
  },
  {
   "cell_type": "markdown",
   "metadata": {},
   "source": [
    "Machine Learning Models can be classified into two broad categories:\n",
    "1. **Supervised learning methods**\n",
    "    1. Past data with lables is used for building the model\n",
    "    2. **Regression** and **Classification** algorithms fall under this category\n",
    "2. **Unsupervised learning methods**\n",
    "    1. No predefined labels are assigned to past data\n",
    "    2. **Clustering** algorithms fall under this category\n",
    "\n",
    "<div>\n",
    "<img src=\"https://cdn.upgrad.com/UpGrad/temp/f38edbe7-f110-4a23-967d-603d0007c9fa/capture.PNG\" width='500'>\n",
    "</div>"
   ]
  },
  {
   "cell_type": "markdown",
   "metadata": {},
   "source": [
    "### <font color = 'blue'>MCQ's"
   ]
  },
  {
   "cell_type": "markdown",
   "metadata": {},
   "source": [
    "#### <font color = 'blue'>Question_1:\n",
    "**Supervised and Unsupervised Learning**<br><br>\n",
    "Identify what type of problem this is:<br><br>\n",
    "You have the past data on the performance of two cricket teams; based on different parameters and the match results, you have to predict which team will win.\n",
    "- Supervised learning\n",
    "- Unsupervised learning\n",
    "    \n",
    "\n",
    "#### <font color = 'blue'>Answer:\n",
    "**Supervised learning** \n",
    "    \n",
    "You have the data of the past few years to train your model on. Since you know the results of different games based on different performance parameters, it will be a supervised learning problem, more specifically, a classification problem, as your output variable (i.e., the name of the team) is categorical."
   ]
  },
  {
   "cell_type": "markdown",
   "metadata": {},
   "source": [
    "#### <font color = 'blue'>Question_2:\n",
    "**Supervised and Unsupervised Learning**<br><br>\n",
    "Identify what type of problem this is:<br><br>\n",
    "You feed a large collection of spam emails to the learning model to identify the different subgroups of these spam emails. No labels are presents in the data set.\n",
    "- Supervised learning\n",
    "- Unsupervised learning\n",
    "\n",
    "    \n",
    "#### <font color = 'blue'>Answer:\n",
    "**Unsupervised learning** \n",
    "    \n",
    "This can be addressed using unsupervised learning, as there are no labels assigned to your data set and they need to be identified."
   ]
  },
  {
   "cell_type": "markdown",
   "metadata": {},
   "source": [
    "#### <font color = 'blue'>Question_3:\n",
    "**Supervised and Unsupervised Learning**<br><br>\n",
    "Identify what type of problem this is:<br><br>\n",
    "Consider a large data set of the medical profiles of cancer patients with no labels. The model has to learn whether there are different groups of such patients for which separate treatments may be tailored.\n",
    "- Supervised learning\n",
    "- Unsupervised learning\n",
    "\n",
    "    \n",
    "#### <font color = 'blue'>Answer:\n",
    "**Unsupervised learning** \n",
    "    \n",
    "This can be addressed using an unsupervised learning algorithm, in which you group patients into different clusters.\n",
    "    \n",
    "---"
   ]
  },
  {
   "cell_type": "markdown",
   "metadata": {},
   "source": [
    "## <font color=\"blue\"> Regression Line"
   ]
  },
  {
   "cell_type": "markdown",
   "metadata": {},
   "source": [
    "### <font color='blue'>Type of Regression:\n",
    "- **Simple Linear Regression**\n",
    "    - Model with only 1 independent variable\n",
    "- **Multiple Linear Regression**\n",
    "    - Model with more than 1 independent variables"
   ]
  },
  {
   "cell_type": "markdown",
   "metadata": {},
   "source": [
    "#### <font color='blue'> Simple Linear Regression\n",
    "A simple linear regression model attempts to explain the relationship between a dependent variable and an independent one using a straight line.\n",
    "\n",
    " \n",
    "\n",
    "The independent variable is also known as the **predictor variable**, and the dependent variables are also known as the **output variables**."
   ]
  },
  {
   "cell_type": "markdown",
   "metadata": {},
   "source": [
    "Refer to this [link](https://www.mathsisfun.com/equation_of_line.html) to revise the physical significance of an equation of a straight line and also to understand how to find the slope and intercept of a straight line from its graph."
   ]
  },
  {
   "cell_type": "markdown",
   "metadata": {},
   "source": [
    "#### <font color='blue'>Equation of straight line\n",
    "\n",
    "<div>\n",
    "<img src=\"https://teleskola.mt/wp-content/uploads/2020/05/picture-949d69f589ab2d59ca28e9acc65685d0.jpg\" width='300'>\n",
    "</div>\n",
    "    \n",
    "$y = mx + c$<br>\n",
    "where,<br>\n",
    "$m$ - Slope of the line<br>\n",
    "$c$ - y Intercept of the line<br>\n",
    "$x$ - Independent or predictor variable<br>\n",
    "$y$ - Dependent or Output variable"
   ]
  },
  {
   "cell_type": "markdown",
   "metadata": {},
   "source": [
    "---\n",
    "\n",
    "### <font color='blue'>MCQ's\n",
    "\n",
    "Answer the following questions in the context of the straight-line plot given below.\n",
    "    \n",
    "<div>\n",
    "<img src=\"https://cdn.upgrad.com/UpGrad/temp/f2b0e805-6c07-4931-8585-04e424ec11e7/3.1.1%20PL%2023%20(1).png\" width='600'>\n",
    "</div>\n"
   ]
  },
  {
   "cell_type": "markdown",
   "metadata": {},
   "source": [
    "#### <font color = 'blue'>Question_1:\n",
    "**Intercept of a Straight Line**<br><br>\n",
    "What is the intercept of the given line? Use the graph given above to answer this question.<br><br>\n",
    "\n",
    "- 0\n",
    "- 3\n",
    "- 4\n",
    "- 1/2\n",
    "    \n",
    "\n",
    "#### <font color = 'blue'>Answer:\n",
    "**3** \n",
    "    \n",
    "The value of y when x = 0 in the given straight line is 3. So, the intercept in this case is 3."
   ]
  },
  {
   "cell_type": "markdown",
   "metadata": {},
   "source": [
    "#### <font color = 'blue'>Question_2:\n",
    "**Slope of a Straight Line**<br><br>\n",
    "What is the slope of the given line? Use the graph given above to answer this question..<br><br>\n",
    "\n",
    "- 1/2\n",
    "- 1/3\n",
    "- 1\n",
    "- 2\n",
    "    \n",
    "\n",
    "#### <font color = 'blue'>Answer:\n",
    "**1/2** \n",
    "    \n",
    "The slope of any straight line can be calculated by (y₂ - y₁)/(x₂ - x₁), where (x₁, y₁) and (x₂, y₂) are any two points through which the given line passes. This line passes through (0,3) and (2, 4); so, the slope of this line would be (4-3)/(2-0) = ½."
   ]
  },
  {
   "cell_type": "markdown",
   "metadata": {},
   "source": [
    "#### <font color = 'blue'>Question_3:\n",
    "**Equation of a Straight Line**<br><br>\n",
    "What would be the equation of the given line?.<br><br>\n",
    "\n",
    "- Y = X/2 + 3\n",
    "- Y = 2X + 3\n",
    "- Y = X/3 + ½\n",
    "- Y = 3X + ½\n",
    "    \n",
    "\n",
    "#### <font color = 'blue'>Answer:\n",
    "**Y = X/2 + 3** \n",
    "    \n",
    "The standard equation of a straight line is y = mx + c, where m is the slope and c is the intercept. In this case, m = ½ and c = 3. So, the equation would be Y = X/2 + 3\n",
    "    \n",
    "---"
   ]
  },
  {
   "cell_type": "markdown",
   "metadata": {},
   "source": [
    "In Linear Regression line the Equation will be,<br>\n",
    "**$$y = \\beta_{0} +\\beta_{1}x$$**<br>\n",
    "This is standard notation used for simple linear regression"
   ]
  },
  {
   "cell_type": "markdown",
   "metadata": {},
   "source": [
    "#### <font color = 'blue'>Question_1:\n",
    "**Coefficients of Regression Line**\n",
    "\n",
    "Which statement explains the physical interpretation of the slope of the regression line Y = β₀ + β₁.X, where Y is the sales amount in crore rupees and X is the marketing spend in lakh rupees?\n",
    "- For each additional β₁ lakh spent on marketing, the predicted sales increases by 1 crore.\n",
    "- For each additional β₁ lakh spent on marketing, the predicted sales increases by β₀ crore.\n",
    "- For each additional 1 lakh spent on marketing, the predicted sales increases by β₁ crore.\n",
    "- For each additional β₀ lakh spent on marketing, the predicted sales increases by β₁ crore.\n",
    "\n",
    "#### <font color = 'blue'>Answer:\n",
    "**For each additional 1 lakh spent on marketing, the predicted sales increases by β₁ crore.**\n",
    "\n",
    "For this regression line, β₀ is the intercept and β₁ is the slope. For a unit increase in the quantity of X (marketing spend), Y (sales amount) increases <br>by β₁.1 = β₁ units."
   ]
  },
  {
   "cell_type": "markdown",
   "metadata": {},
   "source": [
    "#### <font color = 'blue'>Question_2:\n",
    "**Coefficients of Regression Line**\n",
    "\n",
    "Which statement explains the physical interpretation of the intercept of the regression line Y = β₀ + β₁.X, where Y is the sales amount in crore rupees and X is the marketing spend in lakh rupees?\n",
    "- When the amount spent on marketing is ₹0, the sales amount = β₀ crore.\n",
    "- When the amount spent on marketing is ₹0, the sales amount = β₁ crore.\n",
    "- When the amount spent on marketing is ₹β₀ lakh, the sales amount = ₹0 crore.\n",
    "- When the amount spent on marketing is ₹β₁ lakh, the sales amount = ₹0 crore.\n",
    "\n",
    "#### <font color = 'blue'>Answer:\n",
    "**When the amount spent on marketing is ₹0, the sales amount = β₀ crore.**\n",
    "\n",
    "For this regression line, β₀ is the intercept and β₁ is the slope. The value of Y (sales amount) is β₀ crore when the value of X (marketing spend) is ₹0.\n",
    "    \n",
    "---"
   ]
  },
  {
   "cell_type": "markdown",
   "metadata": {},
   "source": [
    "## <font color = 'blue'>Best Fit Line"
   ]
  },
  {
   "cell_type": "markdown",
   "metadata": {},
   "source": [
    "In regression, a best fit line is a line that fits the given scatter plot in the best way\n",
    "\n",
    "we have to identify the best fit line by minimising the Residual sum of squares also called Oridinary Least Squares Method(oLSS)\n",
    "\n",
    "**Residual:**\n",
    "The square of difference between the actual point of y value and y value of predicted line y value, it is also called error\n",
    "\n",
    "The formula for **Residual** is $$e_{i} = y_{i} - y_{pred}$$\n",
    "\n",
    "**Oridinary Least Squares Method(oLSS):** sum of all the squares of the residuals\n",
    "\n",
    "$$e_{1}^{2} + e_{2}^{2} +---+ e_{n}^{2} = RSS (Residual  Sum  Of Squares)$$"
   ]
  },
  {
   "cell_type": "markdown",
   "metadata": {},
   "source": [
    "Let’s reiterate what you have learnt so far:\n",
    "\n",
    "1. Start with a scatter plot to check the relationship between sales and the marketing budget.\n",
    "\n",
    "2. Then find residuals and the RSS for any given line passing through the scatter plot.\n",
    "\n",
    "3. Then find the equation of the best fit line by minimising the RSS and also found the optimal values of β₀ and β₁."
   ]
  },
  {
   "cell_type": "markdown",
   "metadata": {},
   "source": [
    "The Generalised Equation for RSS is,\n",
    "\n",
    "$$RSS = \\sum \\limits _{i=1} ^{n}(Y_{i}- \\beta_{0}-\\beta_{1}X_{i})^{2}$$\n",
    "$$(or)$$\n",
    "$$RSS = \\sum \\limits _{i=1} ^{n}(Y_{i}- Y_{pred})^{2}$$"
   ]
  },
  {
   "cell_type": "markdown",
   "metadata": {},
   "source": [
    "### <font color='blue'>MCQ's"
   ]
  },
  {
   "cell_type": "markdown",
   "metadata": {},
   "source": [
    "#### <font color = 'blue'>Question_1:\n",
    "**Least Squares Regression Line**\n",
    "\n",
    "The coefficients of the least squares regression line are determined by the ordinary least squares method, which essentially means minimising the sum of the squares of the:\n",
    "- x-coordinates\n",
    "- y-coordinates of the actual data\n",
    "- y-coordinates of the predicted data\n",
    "- (y-coordinates of the actual data) - (y-coordinates of the predicted data)\n",
    "\n",
    "\n",
    "#### <font color = 'blue'>Answer:\n",
    "**(y-coordinates of the actual data) - (y-coordinates of the predicted data)**\n",
    "\n",
    "The ordinary least squares method has a criterion of the minimisation of the sum of squares of residuals. Residuals are defined as the difference between the y-coordinates of the actual data and the y-coordinates of the predicted data."
   ]
  },
  {
   "cell_type": "markdown",
   "metadata": {},
   "source": [
    "#### <font color = 'blue'>Question_2:\n",
    "**Best Fit Regression Line**\n",
    "\n",
    "What is the main criterion used to determine the best-fitting regression line?\n",
    "- The line that goes through the most number of points\n",
    "- The line that has an equal number of points above and below it\n",
    "- The line that minimises the sum of squares of distances of points from the regression line\n",
    "- Either B or C\n",
    "\n",
    "\n",
    "#### <font color = 'blue'>Answer:\n",
    "**The line that minimises the sum of squares of distances of points from the regression line**\n",
    "\n",
    "The criterion is given by the ordinary least squares (OLS) method, which states that the sum of squares of residuals should be minimum. "
   ]
  },
  {
   "cell_type": "markdown",
   "metadata": {},
   "source": [
    " "
   ]
  },
  {
   "cell_type": "markdown",
   "metadata": {},
   "source": [
    "---\n",
    "\n",
    "The best fit line is obtained by minimising a quantity called the residual sum of squares (RSS). now let's introduced to the concept of a cost function."
   ]
  },
  {
   "cell_type": "markdown",
   "metadata": {},
   "source": [
    "### <font color='blue'>**Gradient descen**\n",
    "Gradient descent is an optimisation algorithm that optimises the objective function (cost function for linear regression) to reach the optimal solution.\n",
    "    \n",
    "The cost function and ways to optimise it (minimisation or maximisation) by referring to this [link](https://learn.upgrad.com/course/1634/segment/13209/82110/244957/1284369); the topic is covered in detail as part of the optional session. Even though the session is optional, we strongly recommend that you go through it, as gradient descent will also be used for logistic regression and even neural networks."
   ]
  },
  {
   "cell_type": "markdown",
   "metadata": {},
   "source": [
    "**Cost Function:**\n",
    "Typical Machine Learning problem a cost function will be defined,In Linear regression the cost function will be RSS, The cost function (RSS) has to be minimised for optimal solution.\n",
    "\n",
    "**Ways to minimize the cost function (RSS)**:\n",
    "\n",
    "- Differentiate the cost function and uptain β₀ and β₁.\n",
    "- The second method is iterative process to get optimal β₀ and β₁. by Gradiant Descent method"
   ]
  },
  {
   "cell_type": "markdown",
   "metadata": {},
   "source": [
    "## <font color='blue'> Strength of Simple Linear Regression"
   ]
  },
  {
   "cell_type": "markdown",
   "metadata": {},
   "source": [
    "After determining the best fit line, there are a few critical questions that you need to answer, such as:\n",
    "\n",
    "1. How well does the best fit line represent the scatter plot?\n",
    "\n",
    "2. How well does the best fit line predict the new data?\n",
    "\n",
    "Are the questions above answered well by the RSS?"
   ]
  },
  {
   "cell_type": "markdown",
   "metadata": {},
   "source": [
    "### <font color = 'blue'>MCQ's"
   ]
  },
  {
   "cell_type": "markdown",
   "metadata": {},
   "source": [
    "#### <font color = 'blue'>Question_1:\n",
    "**RSS (Residual Sum of Squares)**\n",
    "    \n",
    "In the previous example of marketing spend (in lakh rupees) and sales amount (in crore rupees), let’s assume that you get the same data in different units: marketing spend (in lakh rupees) and sales amount (in dollars). Do you think there will be any change in the value of the RSS due to a change in the units (as compared to the value calculated in the Excel demonstration)?\n",
    "    \n",
    "- Yes, the value of the RSS will change because the units are changed.\n",
    "- No, the value will not change.\n",
    "- Cannot say.\n",
    "    \n",
    "#### <font color = 'blue'>Answer:\n",
    "**Yes, the value of the RSS will change because the units are changed.**\n",
    "\n",
    "The RSS for any regression line is given by this expression: $RSS = \\sum \\limits _{i=1} ^{n}(Y_{i}- Y_{pred})^{2}$. RSS is the sum of the squared difference between the actual and the predicted values, and its value will change if the units change, as it has units of For example, (₹140 - ₹70)^2 = 4900, whereas (2 USD - 1 USD)^2 = 1. So, the value of the RSS is different varies when the units are changed.\n"
   ]
  },
  {
   "cell_type": "markdown",
   "metadata": {},
   "source": [
    "#### <font color = 'blue'>Question_2:\n",
    "**RSS (Residual Sum of Squares)**\n",
    "    \n",
    "Based on the property of RSS as mentioned in the previous question, do you think RSS is a good parameter to interpret how well the regression line represents the given data?\n",
    "    \n",
    "- Yes\n",
    "- No\n",
    "    \n",
    "#### <font color = 'blue'>Answer:\n",
    "**This is public voting question**\n"
   ]
  },
  {
   "cell_type": "markdown",
   "metadata": {},
   "source": [
    "**<font color = 'brown'>Note**: **RSS** value will get affceted by the scale of predictor variable changed, for example if you predict the tempreature in celsius later you want to predict the same data in farhenheit then the **RSS** value will change"
   ]
  },
  {
   "cell_type": "markdown",
   "metadata": {},
   "source": [
    "Now we introduce the term called **TSS(Total Sum of Square)** which is nothing but, the square of difference between $y_{actual}$ and mean of y wchich is called $\\bar{y}$"
   ]
  },
  {
   "cell_type": "markdown",
   "metadata": {},
   "source": [
    "$$TSS = (Y_{1}-\\bar{Y})^2 + (Y_{2}-\\bar{Y})^2 + ... + (Y_{n}-\\bar{Y})^2$$\n",
    "$$(or)$$\n",
    "$$TSS = \\sum \\limits _{i=1} ^{n}(Y_{i}- \\bar{Y})^{2}$$"
   ]
  },
  {
   "cell_type": "markdown",
   "metadata": {},
   "source": [
    "**$\\beta_{0} = \\bar{Y}$** is the basic model which we will buid first,any other model we will build should be better than the basic model"
   ]
  },
  {
   "cell_type": "markdown",
   "metadata": {},
   "source": [
    "The Ratio between **RSS** and **TSS** will tell how good the model is, which means how much better the predicted model as compared to the basic model $(\\beta_{0} = \\bar{Y})$ is called $R^2$"
   ]
  },
  {
   "cell_type": "markdown",
   "metadata": {},
   "source": [
    "$$R^2 = 1 - \\frac{RSS}{TSS}$$"
   ]
  },
  {
   "cell_type": "markdown",
   "metadata": {},
   "source": [
    "if $R^2 = 1$ means the fit of the model is very good, the data points are in the predicted Linear Model, if $R^2 = 0$ means the fit of the model is very poor none or very few of the data point is near to the predicted Linear Model."
   ]
  },
  {
   "cell_type": "markdown",
   "metadata": {},
   "source": [
    "Refer the below figure for better understanding of the fit of the Linear Model on $R^2$ value."
   ]
  },
  {
   "cell_type": "markdown",
   "metadata": {},
   "source": [
    "<div>\n",
    "<img src=\"https://storage.ning.com/topology/rest/1.0/file/get/2742052271?profile=original\" width='700'>\n",
    "</div>\n"
   ]
  },
  {
   "attachments": {
    "example%20for%20r2.png": {
     "image/png": "[encoded data removed]"
    }
   },
   "cell_type": "markdown",
   "metadata": {},
   "source": [
    "##### Lets refer the below example of Sales Vs Marketing Budget\n",
    "\n",
    "<div>\n",
    "<img src=\"attachment:example%20for%20r2.png\" width='400'>\n",
    "</div>"
   ]
  },
  {
   "attachments": {
    "Graph.png": {
     "image/png": "[encoded data removed]"
    }
   },
   "cell_type": "markdown",
   "metadata": {},
   "source": [
    "<div>\n",
    "<img src=\"attachment:Graph.png\" width='400'>\n",
    "</div>"
   ]
  },
  {
   "cell_type": "markdown",
   "metadata": {},
   "source": [
    "- The first column is Marketing Budget(x) in lakhs\n",
    "- The second column is Actual Sales (y) in crores\n",
    "- By plotting scatter plot between x and y and fitting the best fit line using excel\n",
    "- we have found the slope is 0.0525 and intercept is 3.3525\n",
    "- Plug in the values of slope and intercept with each x value we can compute the predicted y\n",
    "- Now we can calculate the RSS by taking the square of difference between actual y and predticted y, taking sum of all the squared values\n",
    "- To calculate the TSS(Total Sum of Square) we have to calculate the mean of y actual, and taking the he square of difference between actual y and mean y, taking sum of all the squared values is what TSS"
   ]
  },
  {
   "cell_type": "markdown",
   "metadata": {},
   "source": [
    " "
   ]
  },
  {
   "cell_type": "markdown",
   "metadata": {},
   "source": [
    "---\n",
    "\n",
    "**<font color = 'blue'>Comprehension:**\n",
    "\n",
    " \n",
    "\n",
    "The plot below represents a scatter plot of two variables X and Y, with the Y variable being dependent on X. Let’s assume that the line with the equation Y = X/2 + 3 plotted in the graph represents the best fit line. This is the same line that you found the equation of earlier.\n",
    "\n",
    " \n",
    "\n",
    "You can find the value of the residual for each point, e.g., for x = 2, the residual would be 5 - 4 = 1.\n",
    "\n",
    " \n",
    "\n",
    "Answer the following questions in order to consolidate your learning about RSS and R².\n",
    "\n",
    "<div>\n",
    "<img src=\"https://cdn.upgrad.com/UpGrad/temp/5a8c4414-71c2-453a-bcb9-f16930a0c7f5/3.1.1%20PL%2023%20B.png\" width='600'>\n",
    "</div>\n"
   ]
  },
  {
   "cell_type": "markdown",
   "metadata": {},
   "source": [
    "### <font color = 'blue'>MCQ's"
   ]
  },
  {
   "cell_type": "markdown",
   "metadata": {},
   "source": [
    "#### <font color = 'blue'>Question_1:\n",
    "**Residual Sum of Squares (RSS)**\n",
    "    \n",
    "Find the value of the RSS for this regression line.\n",
    "    \n",
    "- 0.25\n",
    "- 6.25\n",
    "- 6.5\n",
    "- -0.5\n",
    "    \n",
    "#### <font color = 'blue'>Answer:\n",
    "**6.25**\n",
    "\n",
    "The residuals for all 5 points are -0.5, 1, 0, -2, 1. The sum of squares of all 5 residuals would be 0.25 + 1 + 0 + 4 + 1 = 6.25."
   ]
  },
  {
   "cell_type": "markdown",
   "metadata": {},
   "source": [
    "#### <font color = 'blue'>Question_2:\n",
    "**Total Sum of Squares (TSS)**\n",
    "    \n",
    "Find the value of the TSS for this regression line.\n",
    "    \n",
    "- 11.5\n",
    "- 7.5\n",
    "- 0\n",
    "- 14\n",
    "    \n",
    "#### <font color = 'blue'>Answer:\n",
    "**14**\n",
    "\n",
    "The average of the y-value for all the data points (3 + 5 + 5 + 4 + 8)/5 = 25/5 = 5. So, the $(y-\\bar{y})$ term for each datapoint would be -2, 0, 0, -1, 3. The squared sum of these terms would be 4 + 0 + 0 + 1 + 9 = 14."
   ]
  },
  {
   "cell_type": "markdown",
   "metadata": {},
   "source": [
    "#### <font color = 'blue'>Question_3:\n",
    "**R²**\n",
    "    \n",
    "The RSS for this example comes out to be 6.25, and the TSS comes out to be 14.\n",
    "\n",
    "What would be the R² for this regression line?\n",
    "    \n",
    "- 1 - (14/6.25)\n",
    "- (1 - 14)/6.25\n",
    "- 1 - (6.25/14)\n",
    "- (1 - 6.25)/14\n",
    "    \n",
    "#### <font color = 'blue'>Answer:\n",
    "**1 - (6.25/14)**\n",
    "\n",
    "The R² value is given by 1 - (RSS/TSS). So, in this case, the R² value would be 1 - (6.25 / 14).\n",
    "    \n",
    "---"
   ]
  },
  {
   "cell_type": "markdown",
   "metadata": {},
   "source": [
    "Apart from R², there is one more concept named RSE (residual squared error), which is linked to RSS.\n",
    "\n",
    "$$RSE = \\sqrt{\\frac{RSS}{df}}$$\n",
    "\n",
    "$$df = n-2$$ where, $n$ is the number of data points"
   ]
  },
  {
   "cell_type": "markdown",
   "metadata": {},
   "source": [
    "The **RSE** also has same limitations as **RSS** which will afftect by the scale of the variable, so $R^2$ is the better approach to determine the model fit because it's generlise the values by taking the ratio between **RSS** and **TSS**\n",
    "\n",
    "---"
   ]
  },
  {
   "cell_type": "markdown",
   "metadata": {},
   "source": [
    "## <font color = 'blue'>Summary:\n",
    "\n",
    "Here's a brief summary **Simple Linear Regression**:\n",
    "1. Machine learning models can be classified into the following two categories on the basis of the learning algorithm:\n",
    "    1. **Supervised learning method:** Past data with labels is available to build the model.\n",
    "        1. **Regression:** The output variable is continuous in nature.\n",
    "        2. **Classification:** The output variable is categorical in nature.\n",
    "    2. **Unsupervised learning method:** Past data with labels is not available.\n",
    "        1. **Clustering:** There is no predefined notion of labels.\n",
    "2. Past dataset is divided into two parts in the supervised learning method: \n",
    "    1. **Training data** is used for the model to learn during modelling.\n",
    "    2. **Testing data** is used by the trained model for prediction and model evaluation.\n",
    "3. Linear regression models can be classified into two types depending upon the number of independent variables:\n",
    "    1. **Simple linear regression:** This is used when the number of independent variables is 1.\n",
    "    2. **Multiple linear regression:** This is used when the number of independent variables is more than 1.\n",
    "4. The equation of the best fit regression line Y = β₀ + β₁X can be found by minimising the cost function (RSS in this\n",
    "case, using the ordinary least squares method), which is done using the following two methods:\n",
    "    1. **Differentiation**\n",
    "    2. **Gradient descent**\n",
    "5. The strength of a linear regression model is mainly explained by R², where R² = 1 - (RSS/TSS).\n",
    "    1. **RSS:** Residual sum of squares\n",
    "    2. **TSS:** Total sum of squares\n",
    "6. RSE helps in measuring the lack of fit of a model on a given data. The closeness of the estimated regression coefficients to the true ones can be estimated using RSE. It is related to RSS by the formula:$RSE = \\sqrt{\\frac{RSS}{df}}$ where $df = n-2$ and $n$ is the number of data points\n",
    "\n",
    "---"
   ]
  }
 ],
 "metadata": {
  "kernelspec": {
   "display_name": "Python 3",
   "language": "python",
   "name": "python3"
  },
  "language_info": {
   "codemirror_mode": {
    "name": "ipython",
    "version": 3
   },
   "file_extension": ".py",
   "mimetype": "text/x-python",
   "name": "python",
   "nbconvert_exporter": "python",
   "pygments_lexer": "ipython3",
   "version": "3.8.5"
  }
 },
 "nbformat": 4,
 "nbformat_minor": 4
}
